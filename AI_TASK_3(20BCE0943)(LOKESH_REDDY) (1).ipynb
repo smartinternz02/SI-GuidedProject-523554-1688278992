{
  "nbformat": 4,
  "nbformat_minor": 0,
  "metadata": {
    "colab": {
      "provenance": []
    },
    "kernelspec": {
      "name": "python3",
      "display_name": "Python 3"
    },
    "language_info": {
      "name": "python"
    }
  },
  "cells": [
    {
      "cell_type": "markdown",
      "source": [
        "ASSIGNMENT-**3**"
      ],
      "metadata": {
        "id": "ZavhBSSggp7C"
      }
    },
    {
      "cell_type": "code",
      "execution_count": 1,
      "metadata": {
        "colab": {
          "base_uri": "https://localhost:8080/"
        },
        "id": "p_bb5A9OfL57",
        "outputId": "c5ad27b0-57f6-4f90-cdd4-a7967080b7e8"
      },
      "outputs": [
        {
          "output_type": "stream",
          "name": "stdout",
          "text": [
            "Archive:  /content/drive/MyDrive/test_data.zip\n",
            "   creating: test_data/\n",
            "   creating: test_data/blasti/\n",
            "  inflating: test_data/blasti/DSC_6396.jpg  \n",
            "  inflating: test_data/blasti/DSC_6397.jpg  \n",
            "  inflating: test_data/blasti/DSC_6398.jpg  \n",
            "  inflating: test_data/blasti/DSC_6399.jpg  \n",
            "  inflating: test_data/blasti/DSC_6400.jpg  \n",
            "  inflating: test_data/blasti/DSC_6401.jpg  \n",
            "  inflating: test_data/blasti/DSC_6402.jpg  \n",
            "  inflating: test_data/blasti/DSC_6403.jpg  \n",
            "  inflating: test_data/blasti/DSC_6405.jpg  \n",
            "  inflating: test_data/blasti/DSC_6406.jpg  \n",
            "  inflating: test_data/blasti/DSC_6407.jpg  \n",
            "  inflating: test_data/blasti/DSC_6408.jpg  \n",
            "  inflating: test_data/blasti/DSC_6409.jpg  \n",
            "  inflating: test_data/blasti/DSC_6410.jpg  \n",
            "  inflating: test_data/blasti/DSC_6411.jpg  \n",
            "   creating: test_data/bonegl/\n",
            "  inflating: test_data/bonegl/DSC_4587.jpg  \n",
            "  inflating: test_data/bonegl/DSC_4588.jpg  \n",
            "  inflating: test_data/bonegl/DSC_4589.jpg  \n",
            "  inflating: test_data/bonegl/DSC_4590.jpg  \n",
            "  inflating: test_data/bonegl/DSC_4591.jpg  \n",
            "  inflating: test_data/bonegl/DSC_4592.jpg  \n",
            "  inflating: test_data/bonegl/DSC_4593.jpg  \n",
            "   creating: test_data/brhkyt/\n",
            "  inflating: test_data/brhkyt/D72_0473.jpg  \n",
            "  inflating: test_data/brhkyt/D72_0474.jpg  \n",
            "  inflating: test_data/brhkyt/D72_0475.jpg  \n",
            "  inflating: test_data/brhkyt/D72_0477.jpg  \n",
            "  inflating: test_data/brhkyt/D72_0478.jpg  \n",
            "  inflating: test_data/brhkyt/D72_0479.jpg  \n",
            "   creating: test_data/cbrtsh/\n",
            "  inflating: test_data/cbrtsh/_D32_10310.jpg  \n",
            "  inflating: test_data/cbrtsh/_D32_10311.jpg  \n",
            "  inflating: test_data/cbrtsh/_D32_10312.jpg  \n",
            "  inflating: test_data/cbrtsh/_D32_10313.jpg  \n",
            "  inflating: test_data/cbrtsh/_D32_10314.jpg  \n",
            "  inflating: test_data/cbrtsh/_D32_10317.jpg  \n",
            "  inflating: test_data/cbrtsh/_D32_10318.jpg  \n",
            "   creating: test_data/cmnmyn/\n",
            "  inflating: test_data/cmnmyn/DSC_2443.jpg  \n",
            "  inflating: test_data/cmnmyn/DSC_4681.jpg  \n",
            "  inflating: test_data/cmnmyn/DSC_5137.jpg  \n",
            "  inflating: test_data/cmnmyn/DSC_7625.jpg  \n",
            "  inflating: test_data/cmnmyn/P1050277.jpg  \n",
            "  inflating: test_data/cmnmyn/_D32_12426.jpg  \n",
            "  inflating: test_data/cmnmyn/_D32_12427.jpg  \n",
            "  inflating: test_data/cmnmyn/_D32_12428.jpg  \n",
            "   creating: test_data/gretit/\n",
            "  inflating: test_data/gretit/11620454726_31a35c26da_o.jpg  \n",
            "  inflating: test_data/gretit/11776135285_ccf938fa2e_o.jpg  \n",
            "  inflating: test_data/gretit/11905645146_6a5d4ff9f9_o.jpg  \n",
            "  inflating: test_data/gretit/8537646712_0b282c4c6a_o.jpg  \n",
            "  inflating: test_data/gretit/D72_0693.jpg  \n",
            "  inflating: test_data/gretit/D72_0694.jpg  \n",
            "  inflating: test_data/gretit/D72_0695.jpg  \n",
            "   creating: test_data/hilpig/\n",
            "  inflating: test_data/hilpig/DSC_6359.jpg  \n",
            "  inflating: test_data/hilpig/DSC_6362.jpg  \n",
            "  inflating: test_data/hilpig/DSC_6364.jpg  \n",
            "  inflating: test_data/hilpig/DSC_6368.jpg  \n",
            "  inflating: test_data/hilpig/DSC_6403.jpg  \n",
            "  inflating: test_data/hilpig/DSC_6404.jpg  \n",
            "  inflating: test_data/hilpig/P1000319.jpg  \n",
            "  inflating: test_data/hilpig/P1000323.jpg  \n",
            "  inflating: test_data/hilpig/P1050044.jpg  \n",
            "  inflating: test_data/hilpig/P1050045.jpg  \n",
            "   creating: test_data/himbul/\n",
            "  inflating: test_data/himbul/11602064885_3826df4500_o.jpg  \n",
            "  inflating: test_data/himbul/11619942574_42f23a7b05_o.jpg  \n",
            "  inflating: test_data/himbul/11620097904_33fa8ee878_o.jpg  \n",
            "  inflating: test_data/himbul/5857371972_ed4f88b275_o.jpg  \n",
            "  inflating: test_data/himbul/6154954471_eefe6e00d1_o.jpg  \n",
            "  inflating: test_data/himbul/D72_0688.jpg  \n",
            "  inflating: test_data/himbul/D72_0691.jpg  \n",
            "  inflating: test_data/himbul/DSC08357.jpg  \n",
            "  inflating: test_data/himbul/DSC_3230.jpg  \n",
            "  inflating: test_data/himbul/DSC_7439.jpg  \n",
            "  inflating: test_data/himbul/DSC_7602.jpg  \n",
            "  inflating: test_data/himbul/P1060368.jpg  \n",
            "  inflating: test_data/himbul/P1060369.jpg  \n",
            "  inflating: test_data/himbul/_D32_10242.jpg  \n",
            "  inflating: test_data/himbul/_D32_10245.jpg  \n",
            "  inflating: test_data/himbul/_D32_10251.jpg  \n",
            "  inflating: test_data/himbul/_D32_10319.jpg  \n",
            "  inflating: test_data/himbul/_D32_10320.jpg  \n",
            "  inflating: test_data/himbul/_DSC9446.jpg  \n",
            "   creating: test_data/himgri/\n",
            "  inflating: test_data/himgri/IMG_5384.JPG  \n",
            "  inflating: test_data/himgri/IMG_5385.JPG  \n",
            "  inflating: test_data/himgri/IMG_5386.JPG  \n",
            "  inflating: test_data/himgri/IMG_5387.JPG  \n",
            "  inflating: test_data/himgri/IMG_5459.JPG  \n",
            "  inflating: test_data/himgri/IMG_5460.JPG  \n",
            "  inflating: test_data/himgri/IMG_5487.JPG  \n",
            "  inflating: test_data/himgri/IMG_5488.JPG  \n",
            "  inflating: test_data/himgri/IMG_5489.JPG  \n",
            "  inflating: test_data/himgri/IMG_5490.JPG  \n",
            "  inflating: test_data/himgri/IMG_5491.JPG  \n",
            "  inflating: test_data/himgri/IMG_5492.JPG  \n",
            "  inflating: test_data/himgri/P1020742.jpg  \n",
            "  inflating: test_data/himgri/P1020743.jpg  \n",
            "  inflating: test_data/himgri/P1020746.jpg  \n",
            "  inflating: test_data/himgri/P1020748.jpg  \n",
            "  inflating: test_data/himgri/P1030055.jpg  \n",
            "  inflating: test_data/himgri/P1060776.jpg  \n",
            "  inflating: test_data/himgri/P1060777.jpg  \n",
            "  inflating: test_data/himgri/P1060778.jpg  \n",
            "   creating: test_data/hsparo/\n",
            "  inflating: test_data/hsparo/100_5573.JPG  \n",
            "  inflating: test_data/hsparo/100_5585.JPG  \n",
            "  inflating: test_data/hsparo/100_5586.JPG  \n",
            "  inflating: test_data/hsparo/100_5742.JPG  \n",
            "  inflating: test_data/hsparo/12265273154_48e0fefd42_o.jpg  \n",
            "  inflating: test_data/hsparo/DSC_4521.jpg  \n",
            "  inflating: test_data/hsparo/DSC_7619.jpg  \n",
            "  inflating: test_data/hsparo/_DSC_11244.jpg  \n",
            "  inflating: test_data/hsparo/_DSC_11246.jpg  \n",
            "   creating: test_data/indvul/\n",
            "  inflating: test_data/indvul/DSC_1263.jpg  \n",
            "  inflating: test_data/indvul/DSC_1273.jpg  \n",
            "  inflating: test_data/indvul/DSC_1274.jpg  \n",
            "  inflating: test_data/indvul/DSC_1275.jpg  \n",
            "  inflating: test_data/indvul/DSC_1277.jpg  \n",
            "  inflating: test_data/indvul/_DSC8754.jpg  \n",
            "  inflating: test_data/indvul/_DSC9520.jpg  \n",
            "  inflating: test_data/indvul/_DSC9521.jpg  \n",
            "  inflating: test_data/indvul/_DSC9523.jpg  \n",
            "   creating: test_data/jglowl/\n",
            "  inflating: test_data/jglowl/_D32_10584.jpg  \n",
            "  inflating: test_data/jglowl/_D32_10587.jpg  \n",
            "  inflating: test_data/jglowl/_D32_10593.jpg  \n",
            "  inflating: test_data/jglowl/_D32_13515.jpg  \n",
            "  inflating: test_data/jglowl/_D32_13516.jpg  \n",
            "  inflating: test_data/jglowl/_D32_13517.jpg  \n",
            "   creating: test_data/lbicrw/\n",
            "  inflating: test_data/lbicrw/100_4917.JPG  \n",
            "  inflating: test_data/lbicrw/IMG_5538.JPG  \n",
            "  inflating: test_data/lbicrw/IMG_5541.JPG  \n",
            "  inflating: test_data/lbicrw/IMG_5543.JPG  \n",
            "  inflating: test_data/lbicrw/IMG_5544.JPG  \n",
            "  inflating: test_data/lbicrw/P1030030.jpg  \n",
            "   creating: test_data/mgprob/\n",
            "  inflating: test_data/mgprob/100_5811.JPG  \n",
            "  inflating: test_data/mgprob/100_5812.JPG  \n",
            "  inflating: test_data/mgprob/100_5813.JPG  \n",
            "  inflating: test_data/mgprob/DSC_3233.jpg  \n",
            "  inflating: test_data/mgprob/_DSC0085.jpg  \n",
            "  inflating: test_data/mgprob/_DSC0133.jpg  \n",
            "  inflating: test_data/mgprob/_DSC0135.jpg  \n",
            "   creating: test_data/rebimg/\n",
            "  inflating: test_data/rebimg/100_5756.JPG  \n",
            "  inflating: test_data/rebimg/100_5757.JPG  \n",
            "  inflating: test_data/rebimg/100_5758.JPG  \n",
            "  inflating: test_data/rebimg/100_5759.JPG  \n",
            "  inflating: test_data/rebimg/100_5760.JPG  \n",
            "  inflating: test_data/rebimg/13009302395_5d88a9d62b_o.jpg  \n",
            "  inflating: test_data/rebimg/13009315305_f1cbfb6767_o.jpg  \n",
            "  inflating: test_data/rebimg/13009451823_8eb502581f_o.jpg  \n",
            "  inflating: test_data/rebimg/DSC_7148.jpg  \n",
            "  inflating: test_data/rebimg/IMG_5251.JPG  \n",
            "  inflating: test_data/rebimg/IMG_5252.JPG  \n",
            "   creating: test_data/wcrsrt/\n",
            "  inflating: test_data/wcrsrt/100_4462.JPG  \n",
            "  inflating: test_data/wcrsrt/100_4463.JPG  \n",
            "  inflating: test_data/wcrsrt/100_4464.JPG  \n",
            "  inflating: test_data/wcrsrt/100_4466.JPG  \n",
            "  inflating: test_data/wcrsrt/100_4467.JPG  \n",
            "  inflating: test_data/wcrsrt/100_4468.JPG  \n",
            "  inflating: test_data/wcrsrt/100_5103.JPG  \n",
            "  inflating: test_data/wcrsrt/100_5105.JPG  \n",
            "  inflating: test_data/wcrsrt/11382677585_ef6570a041_o.jpg  \n",
            "  inflating: test_data/wcrsrt/11382746854_7ce73793b3_o.jpg  \n"
          ]
        }
      ],
      "source": [
        "!unzip '/content/drive/MyDrive/test_data.zip' "
      ]
    },
    {
      "cell_type": "code",
      "source": [
        "from tensorflow.keras.preprocessing.image import ImageDataGenerator"
      ],
      "metadata": {
        "id": "hmz8K5Yzg3gS"
      },
      "execution_count": 2,
      "outputs": []
    },
    {
      "cell_type": "code",
      "source": [
        "train_gen = ImageDataGenerator(rescale=(1./255),horizontal_flip=True,shear_range=0.2)\n",
        "test_gen = ImageDataGenerator(rescale=(1./255)) "
      ],
      "metadata": {
        "id": "IGT1V5m4g8KL"
      },
      "execution_count": 3,
      "outputs": []
    },
    {
      "cell_type": "code",
      "source": [
        "test = test_gen.flow_from_directory('/content/test_data/blasti',\n",
        "                                      target_size=(120, 120),\n",
        "                                      class_mode='categorical', \n",
        "                                      batch_size=8)\n",
        "test = test_gen.flow_from_directory('/content/test_data/bonegl',\n",
        "                                    target_size=(120, 120),\n",
        "                                      class_mode='categorical', \n",
        "                                      batch_size=8)\n",
        "test = test_gen.flow_from_directory('/content/test_data/brhkyt',\n",
        "                                    target_size=(120, 120),\n",
        "                                      class_mode='categorical', \n",
        "                                      batch_size=8)\n",
        "test = test_gen.flow_from_directory('/content/test_data/cbrtsh',\n",
        "                                    target_size=(120, 120),\n",
        "                                      class_mode='categorical', \n",
        "                                      batch_size=8)\n",
        "test = test_gen.flow_from_directory('/content/test_data/cmnmyn',\n",
        "                                    target_size=(120, 120),\n",
        "                                      class_mode='categorical', \n",
        "                                      batch_size=8)\n",
        "test = test_gen.flow_from_directory('/content/test_data/gretit',\n",
        "                                    target_size=(120, 120),\n",
        "                                      class_mode='categorical', \n",
        "                                      batch_size=8)\n",
        "test = test_gen.flow_from_directory('/content/test_data/hilpig',\n",
        "                                    target_size=(120, 120),\n",
        "                                      class_mode='categorical', \n",
        "                                      batch_size=8)\n",
        "test = test_gen.flow_from_directory('/content/test_data/himbul',\n",
        "                                    target_size=(120, 120),\n",
        "                                      class_mode='categorical', \n",
        "                                      batch_size=8)\n",
        "test = test_gen.flow_from_directory('/content/test_data/himgri',\n",
        "                                    target_size=(120, 120),\n",
        "                                      class_mode='categorical', \n",
        "                                      batch_size=8)\n",
        "test = test_gen.flow_from_directory('/content/test_data/hsparo',\n",
        "                                    target_size=(120, 120),\n",
        "                                      class_mode='categorical', \n",
        "                                      batch_size=8)\n",
        "test = test_gen.flow_from_directory('/content/test_data/indvul',\n",
        "                                    target_size=(120, 120),\n",
        "                                      class_mode='categorical', \n",
        "                                      batch_size=8)\n",
        "test = test_gen.flow_from_directory('/content/test_data/jglowl',\n",
        "                                    target_size=(120, 120),\n",
        "                                      class_mode='categorical', \n",
        "                                      batch_size=8)\n",
        "test = test_gen.flow_from_directory('/content/test_data/lbicrw',\n",
        "                                    target_size=(120, 120),\n",
        "                                      class_mode='categorical', \n",
        "                                      batch_size=8)\n",
        "test = test_gen.flow_from_directory('/content/test_data/mgprob',\n",
        "                                    target_size=(120, 120),\n",
        "                                      class_mode='categorical', \n",
        "                                      batch_size=8)\n",
        "test = test_gen.flow_from_directory('/content/test_data/rebimg',\n",
        "                                    target_size=(120, 120),\n",
        "                                      class_mode='categorical', \n",
        "                                      batch_size=8)\n",
        "test = test_gen.flow_from_directory('/content/test_data/wcrsrt',\n",
        "                                    target_size=(120, 120),\n",
        "                                      class_mode='categorical', \n",
        "                                      batch_size=8)\n"
      ],
      "metadata": {
        "colab": {
          "base_uri": "https://localhost:8080/"
        },
        "id": "tW5XQdNZhARa",
        "outputId": "a11b27e9-b0d1-48bf-fc84-a7c3e6626c53"
      },
      "execution_count": 18,
      "outputs": [
        {
          "output_type": "stream",
          "name": "stdout",
          "text": [
            "Found 0 images belonging to 0 classes.\n",
            "Found 0 images belonging to 0 classes.\n",
            "Found 0 images belonging to 0 classes.\n",
            "Found 0 images belonging to 0 classes.\n",
            "Found 0 images belonging to 0 classes.\n",
            "Found 0 images belonging to 0 classes.\n",
            "Found 0 images belonging to 0 classes.\n",
            "Found 0 images belonging to 0 classes.\n",
            "Found 0 images belonging to 0 classes.\n",
            "Found 0 images belonging to 0 classes.\n",
            "Found 0 images belonging to 0 classes.\n",
            "Found 0 images belonging to 0 classes.\n",
            "Found 0 images belonging to 0 classes.\n",
            "Found 0 images belonging to 0 classes.\n",
            "Found 0 images belonging to 0 classes.\n",
            "Found 0 images belonging to 0 classes.\n"
          ]
        }
      ]
    },
    {
      "cell_type": "code",
      "source": [
        "train.class_indices"
      ],
      "metadata": {
        "colab": {
          "base_uri": "https://localhost:8080/"
        },
        "id": "-7DhA4ulh-4N",
        "outputId": "18b6009e-1d07-411e-91a8-307d575e87f2"
      },
      "execution_count": 6,
      "outputs": [
        {
          "output_type": "execute_result",
          "data": {
            "text/plain": [
              "{}"
            ]
          },
          "metadata": {},
          "execution_count": 6
        }
      ]
    },
    {
      "cell_type": "code",
      "source": [
        "test.class_indices"
      ],
      "metadata": {
        "colab": {
          "base_uri": "https://localhost:8080/"
        },
        "id": "-gZF2TpGiCEp",
        "outputId": "9911739e-a151-4bbd-bfc7-7672cdb8e6ab"
      },
      "execution_count": 7,
      "outputs": [
        {
          "output_type": "execute_result",
          "data": {
            "text/plain": [
              "{}"
            ]
          },
          "metadata": {},
          "execution_count": 7
        }
      ]
    },
    {
      "cell_type": "code",
      "source": [
        "from tensorflow.keras.layers import Convolution2D,MaxPooling2D,Flatten,Dense\n",
        "from tensorflow.keras.models import Sequential"
      ],
      "metadata": {
        "id": "G4x4TL3CiCAe"
      },
      "execution_count": 8,
      "outputs": []
    },
    {
      "cell_type": "code",
      "source": [
        "model = Sequential()\n",
        "model.add(Convolution2D(12, (3, 3), activation='relu', input_shape=(120, 120, 3)))\n",
        "model.add(MaxPooling2D(pool_size=(2, 2)))\n",
        "model.add(Convolution2D(24, (3, 3), activation='relu'))\n",
        "model.add(MaxPooling2D(pool_size=(2, 2)))\n",
        "model.add(Convolution2D(36, (3, 3), activation='relu'))\n",
        "model.add(MaxPooling2D(pool_size=(2, 2)))\n",
        "model.add(Flatten())\n",
        "model.add(Dense(62, activation='relu'))\n",
        "model.add(Dense(32, activation='relu'))\n",
        "model.add(Dense(16, activation='relu'))\n",
        "model.add(Dense(16, activation='softmax'))"
      ],
      "metadata": {
        "id": "WwPDjratiB2k"
      },
      "execution_count": 9,
      "outputs": []
    },
    {
      "cell_type": "code",
      "source": [
        "model.summary()"
      ],
      "metadata": {
        "colab": {
          "base_uri": "https://localhost:8080/"
        },
        "id": "Za_7uy3miBzb",
        "outputId": "097621d5-496f-4c23-d5fb-02748d5646c1"
      },
      "execution_count": 10,
      "outputs": [
        {
          "output_type": "stream",
          "name": "stdout",
          "text": [
            "Model: \"sequential\"\n",
            "_________________________________________________________________\n",
            " Layer (type)                Output Shape              Param #   \n",
            "=================================================================\n",
            " conv2d (Conv2D)             (None, 118, 118, 12)      336       \n",
            "                                                                 \n",
            " max_pooling2d (MaxPooling2D  (None, 59, 59, 12)       0         \n",
            " )                                                               \n",
            "                                                                 \n",
            " conv2d_1 (Conv2D)           (None, 57, 57, 24)        2616      \n",
            "                                                                 \n",
            " max_pooling2d_1 (MaxPooling  (None, 28, 28, 24)       0         \n",
            " 2D)                                                             \n",
            "                                                                 \n",
            " conv2d_2 (Conv2D)           (None, 26, 26, 36)        7812      \n",
            "                                                                 \n",
            " max_pooling2d_2 (MaxPooling  (None, 13, 13, 36)       0         \n",
            " 2D)                                                             \n",
            "                                                                 \n",
            " flatten (Flatten)           (None, 6084)              0         \n",
            "                                                                 \n",
            " dense (Dense)               (None, 62)                377270    \n",
            "                                                                 \n",
            " dense_1 (Dense)             (None, 32)                2016      \n",
            "                                                                 \n",
            " dense_2 (Dense)             (None, 16)                528       \n",
            "                                                                 \n",
            " dense_3 (Dense)             (None, 16)                272       \n",
            "                                                                 \n",
            "=================================================================\n",
            "Total params: 390,850\n",
            "Trainable params: 390,850\n",
            "Non-trainable params: 0\n",
            "_________________________________________________________________\n"
          ]
        }
      ]
    },
    {
      "cell_type": "code",
      "source": [
        "model.compile(optimizer='adam',loss='categorical_crossentropy',metrics=['accuracy'])"
      ],
      "metadata": {
        "id": "Td5JmFXmiBw1"
      },
      "execution_count": 11,
      "outputs": []
    },
    {
      "cell_type": "code",
      "source": [
        "model.fit(train,batch_size=8,validation_data=test,epochs=25)"
      ],
      "metadata": {
        "id": "NNt3ckN7jmNj"
      },
      "execution_count": null,
      "outputs": []
    },
    {
      "cell_type": "code",
      "source": [
        "model.save('birdsWeights.h5')\n"
      ],
      "metadata": {
        "id": "CbEYUQ08kltJ"
      },
      "execution_count": 16,
      "outputs": []
    },
    {
      "cell_type": "markdown",
      "source": [
        "#TESTING"
      ],
      "metadata": {
        "id": "q8J3pYcukPhq"
      }
    },
    {
      "cell_type": "code",
      "source": [
        "import numpy as np\n",
        "from tensorflow.keras.preprocessing import image"
      ],
      "metadata": {
        "id": "9Y8YtM4DiPx-"
      },
      "execution_count": 13,
      "outputs": []
    },
    {
      "cell_type": "code",
      "source": [
        "img1 = image.load_img('/content/test_data/blasti/DSC_6396.jpg',target_size=(120,120))\n",
        "img1 = image.img_to_array(img1)\n",
        "img1 = np.expand_dims(img1,axis=0)\n",
        "pred = np.argmax(model.predict(img1))\n",
        "print(pred)\n",
        "output = ['blasti','bonegl','brhkyt','cbrtsh','cmnmyn','gretit','hilpig','himbul','himgri','hsparo','indvul','jglowl','lbicrw','mgprob','rebimg','wcrsrt']\n",
        "print(output[pred])"
      ],
      "metadata": {
        "colab": {
          "base_uri": "https://localhost:8080/"
        },
        "id": "LjvQLzpEiPth",
        "outputId": "9ec877d5-c3ad-4993-dc1d-0c207846d11f"
      },
      "execution_count": 15,
      "outputs": [
        {
          "output_type": "stream",
          "name": "stdout",
          "text": [
            "1/1 [==============================] - 0s 440ms/step\n",
            "8\n",
            "himgri\n"
          ]
        }
      ]
    }
  ]
}